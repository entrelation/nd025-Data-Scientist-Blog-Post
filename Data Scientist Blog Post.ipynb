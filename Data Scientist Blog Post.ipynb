{
 "cells": [
  {
   "cell_type": "markdown",
   "id": "b7017df9",
   "metadata": {},
   "source": [
    "### A look IMDb Biopics movies database\n",
    "\n",
    "The idea for this notebook originate from the speech made by Cate Blanchett and Agnes Varda on the Cannes festival red carpet this year in May 2024. Their speech is a call for gender equality in the movie industry.\n",
    "\n",
    "https://www.vox.com/culture/2018/5/13/17347738/cannes-womens-protest-march-film-festival-cate-blanchett-agnes-varda-timesup-red-carpet\n",
    "\n",
    "It reminded me of another article, dealing as well with the lack of diversity in the movie industry. \n",
    "\n",
    "https://fivethirtyeight.com/features/straight-outta-compton-is-the-rare-biopic-not-about-white-dudes/\n",
    "\n",
    "So I decided to use (and expand) the dataset available on Github for this last article and explore further the data:\n",
    "\n",
    "https://github.com/fivethirtyeight/data/tree/master/biopics"
   ]
  },
  {
   "cell_type": "markdown",
   "id": "689164e6",
   "metadata": {},
   "source": [
    "### 1. Business Understanding\n",
    "\n",
    "#### Objective\n",
    "The primary goal of this analysis is to gain insights into biopic movies. It aims to answer the following questions:\n",
    "1. What is the distribution of biopic movies over the years and the gender diversity in the biopics subjects?\n",
    "2. Who are the most frequent actors playing in biopics and which type of subject do they play?\n",
    "3. What are the most common attributes (sex, race, profession) of the biopic subjects?\n",
    "4. Which biopic movies received the highest ratings and is there a correlation with its box office revenue?\n",
    "5. Can we predict the rating of a biopic movie based on some of its features using machine learning?\n",
    "\n",
    "#### Dataset Description\n",
    "- `biopics.csv`: Contains information about various biopic movies.\n",
    "\n",
    "It contains the following variables:\n",
    "\n",
    "Variable | Definition\n",
    "---|---------\n",
    "`title` | Title of the film.\n",
    "`site` | URL from IMDB.\n",
    "`country` | Country of origin.\n",
    "`year_released` | Year of release.\n",
    "`box_office` | Gross earnings at U.S. box office.\n",
    "`director` | Director of film.\n",
    "`number_of_subjects` | The number of subjects featured in the film.\n",
    "`subject` | The actual name of the featured subject.\n",
    "`type_of_subject` | The occupation of subject or reason for recognition.\n",
    "`race_known` | Indicates whether the subject’s race was discernible based on background of self, parent, or grandparent.\n",
    "`subject_race` | Race of the subject.\n",
    "`person_of_color` | Dummy variable that indicates person of color.\n",
    "`subject_sex` | Sex of subject.\n",
    "`lead_actor_actress` | The actor or actress who played the subject.\n",
    "\n",
    "\n",
    "Source: [IMDb](http://www.imdb.com/)."
   ]
  },
  {
   "cell_type": "markdown",
   "id": "56934c84",
   "metadata": {},
   "source": [
    "### 2. Data Understanding"
   ]
  },
  {
   "cell_type": "code",
   "execution_count": 1,
   "id": "beb0216b",
   "metadata": {},
   "outputs": [
    {
     "name": "stderr",
     "output_type": "stream",
     "text": [
      "C:\\Users\\loreant\\Anaconda3\\lib\\site-packages\\scipy\\__init__.py:146: UserWarning: A NumPy version >=1.16.5 and <1.23.0 is required for this version of SciPy (detected version 1.26.4\n",
      "  warnings.warn(f\"A NumPy version >={np_minversion} and <{np_maxversion}\"\n"
     ]
    }
   ],
   "source": [
    "# Import the libraries\n",
    "import numpy as np\n",
    "import pandas as pd\n",
    "import matplotlib.pyplot as plt\n",
    "import seaborn as sns\n",
    "import re\n",
    "import requests\n",
    "from bs4 import BeautifulSoup\n",
    "from sklearn.model_selection import train_test_split\n",
    "from sklearn.linear_model import LinearRegression\n",
    "from sklearn.ensemble import RandomForestClassifier \n",
    "from sklearn.metrics import mean_squared_error, r2_score, accuracy_score, classification_report"
   ]
  },
  {
   "cell_type": "code",
   "execution_count": 2,
   "id": "8803b429",
   "metadata": {},
   "outputs": [
    {
     "data": {
      "text/html": [
       "<div>\n",
       "<style scoped>\n",
       "    .dataframe tbody tr th:only-of-type {\n",
       "        vertical-align: middle;\n",
       "    }\n",
       "\n",
       "    .dataframe tbody tr th {\n",
       "        vertical-align: top;\n",
       "    }\n",
       "\n",
       "    .dataframe thead th {\n",
       "        text-align: right;\n",
       "    }\n",
       "</style>\n",
       "<table border=\"1\" class=\"dataframe\">\n",
       "  <thead>\n",
       "    <tr style=\"text-align: right;\">\n",
       "      <th></th>\n",
       "      <th>title</th>\n",
       "      <th>site</th>\n",
       "      <th>country</th>\n",
       "      <th>year_release</th>\n",
       "      <th>box_office</th>\n",
       "      <th>director</th>\n",
       "      <th>number_of_subjects</th>\n",
       "      <th>subject</th>\n",
       "      <th>type_of_subject</th>\n",
       "      <th>race_known</th>\n",
       "      <th>subject_race</th>\n",
       "      <th>person_of_color</th>\n",
       "      <th>subject_sex</th>\n",
       "      <th>lead_actor_actress</th>\n",
       "    </tr>\n",
       "  </thead>\n",
       "  <tbody>\n",
       "    <tr>\n",
       "      <th>0</th>\n",
       "      <td>10 Rillington Place</td>\n",
       "      <td>http://www.imdb.com/title/tt0066730/</td>\n",
       "      <td>UK</td>\n",
       "      <td>1971</td>\n",
       "      <td>-</td>\n",
       "      <td>Richard Fleischer</td>\n",
       "      <td>1</td>\n",
       "      <td>John Christie</td>\n",
       "      <td>Criminal</td>\n",
       "      <td>Unknown</td>\n",
       "      <td>NaN</td>\n",
       "      <td>0</td>\n",
       "      <td>Male</td>\n",
       "      <td>Richard Attenborough</td>\n",
       "    </tr>\n",
       "    <tr>\n",
       "      <th>1</th>\n",
       "      <td>12 Years a Slave</td>\n",
       "      <td>http://www.imdb.com/title/tt2024544/</td>\n",
       "      <td>US/UK</td>\n",
       "      <td>2013</td>\n",
       "      <td>$56.7M</td>\n",
       "      <td>Steve McQueen</td>\n",
       "      <td>1</td>\n",
       "      <td>Solomon Northup</td>\n",
       "      <td>Other</td>\n",
       "      <td>Known</td>\n",
       "      <td>African American</td>\n",
       "      <td>1</td>\n",
       "      <td>Male</td>\n",
       "      <td>Chiwetel Ejiofor</td>\n",
       "    </tr>\n",
       "    <tr>\n",
       "      <th>2</th>\n",
       "      <td>127 Hours</td>\n",
       "      <td>http://www.imdb.com/title/tt1542344/</td>\n",
       "      <td>US/UK</td>\n",
       "      <td>2010</td>\n",
       "      <td>$18.3M</td>\n",
       "      <td>Danny Boyle</td>\n",
       "      <td>1</td>\n",
       "      <td>Aron Ralston</td>\n",
       "      <td>Athlete</td>\n",
       "      <td>Unknown</td>\n",
       "      <td>NaN</td>\n",
       "      <td>0</td>\n",
       "      <td>Male</td>\n",
       "      <td>James Franco</td>\n",
       "    </tr>\n",
       "    <tr>\n",
       "      <th>3</th>\n",
       "      <td>1987</td>\n",
       "      <td>http://www.imdb.com/title/tt2833074/</td>\n",
       "      <td>Canada</td>\n",
       "      <td>2014</td>\n",
       "      <td>-</td>\n",
       "      <td>Ricardo Trogi</td>\n",
       "      <td>1</td>\n",
       "      <td>Ricardo Trogi</td>\n",
       "      <td>Other</td>\n",
       "      <td>Known</td>\n",
       "      <td>White</td>\n",
       "      <td>0</td>\n",
       "      <td>Male</td>\n",
       "      <td>Jean-Carl Boucher</td>\n",
       "    </tr>\n",
       "    <tr>\n",
       "      <th>4</th>\n",
       "      <td>20 Dates</td>\n",
       "      <td>http://www.imdb.com/title/tt0138987/</td>\n",
       "      <td>US</td>\n",
       "      <td>1998</td>\n",
       "      <td>$537K</td>\n",
       "      <td>Myles Berkowitz</td>\n",
       "      <td>1</td>\n",
       "      <td>Myles Berkowitz</td>\n",
       "      <td>Other</td>\n",
       "      <td>Unknown</td>\n",
       "      <td>NaN</td>\n",
       "      <td>0</td>\n",
       "      <td>Male</td>\n",
       "      <td>Myles Berkowitz</td>\n",
       "    </tr>\n",
       "  </tbody>\n",
       "</table>\n",
       "</div>"
      ],
      "text/plain": [
       "                 title                                  site country  \\\n",
       "0  10 Rillington Place  http://www.imdb.com/title/tt0066730/      UK   \n",
       "1     12 Years a Slave  http://www.imdb.com/title/tt2024544/   US/UK   \n",
       "2            127 Hours  http://www.imdb.com/title/tt1542344/   US/UK   \n",
       "3                 1987  http://www.imdb.com/title/tt2833074/  Canada   \n",
       "4             20 Dates  http://www.imdb.com/title/tt0138987/      US   \n",
       "\n",
       "   year_release box_office           director  number_of_subjects  \\\n",
       "0          1971          -  Richard Fleischer                   1   \n",
       "1          2013     $56.7M      Steve McQueen                   1   \n",
       "2          2010     $18.3M        Danny Boyle                   1   \n",
       "3          2014          -      Ricardo Trogi                   1   \n",
       "4          1998      $537K    Myles Berkowitz                   1   \n",
       "\n",
       "            subject type_of_subject race_known      subject_race  \\\n",
       "0     John Christie        Criminal    Unknown               NaN   \n",
       "1   Solomon Northup           Other      Known  African American   \n",
       "2      Aron Ralston         Athlete    Unknown               NaN   \n",
       "3     Ricardo Trogi           Other      Known             White   \n",
       "4   Myles Berkowitz           Other    Unknown               NaN   \n",
       "\n",
       "   person_of_color subject_sex    lead_actor_actress  \n",
       "0                0        Male  Richard Attenborough  \n",
       "1                1        Male      Chiwetel Ejiofor  \n",
       "2                0        Male          James Franco  \n",
       "3                0        Male     Jean-Carl Boucher  \n",
       "4                0        Male       Myles Berkowitz  "
      ]
     },
     "execution_count": 2,
     "metadata": {},
     "output_type": "execute_result"
    }
   ],
   "source": [
    "# Load the dataset\n",
    "df = pd.read_csv('biopics.csv', encoding='iso-8859-1')\n",
    "\n",
    "# Display the first few rows of the dataframe\n",
    "df.head()"
   ]
  },
  {
   "cell_type": "code",
   "execution_count": 3,
   "id": "5de4f2e2",
   "metadata": {},
   "outputs": [
    {
     "name": "stdout",
     "output_type": "stream",
     "text": [
      "<class 'pandas.core.frame.DataFrame'>\n",
      "RangeIndex: 761 entries, 0 to 760\n",
      "Data columns (total 14 columns):\n",
      " #   Column              Non-Null Count  Dtype \n",
      "---  ------              --------------  ----- \n",
      " 0   title               761 non-null    object\n",
      " 1   site                761 non-null    object\n",
      " 2   country             761 non-null    object\n",
      " 3   year_release        761 non-null    int64 \n",
      " 4   box_office          761 non-null    object\n",
      " 5   director            761 non-null    object\n",
      " 6   number_of_subjects  761 non-null    int64 \n",
      " 7   subject             761 non-null    object\n",
      " 8   type_of_subject     761 non-null    object\n",
      " 9   race_known          761 non-null    object\n",
      " 10  subject_race        564 non-null    object\n",
      " 11  person_of_color     761 non-null    int64 \n",
      " 12  subject_sex         761 non-null    object\n",
      " 13  lead_actor_actress  754 non-null    object\n",
      "dtypes: int64(3), object(11)\n",
      "memory usage: 83.4+ KB\n"
     ]
    }
   ],
   "source": [
    "# Get basic information about the dataframe\n",
    "df.info()"
   ]
  },
  {
   "cell_type": "code",
   "execution_count": 4,
   "id": "d4f71691",
   "metadata": {},
   "outputs": [
    {
     "data": {
      "text/plain": [
       "title                 668\n",
       "site                  672\n",
       "country                 7\n",
       "year_release           86\n",
       "box_office            338\n",
       "director              488\n",
       "number_of_subjects      4\n",
       "subject               699\n",
       "type_of_subject        27\n",
       "race_known              2\n",
       "subject_race           17\n",
       "person_of_color         2\n",
       "subject_sex             2\n",
       "lead_actor_actress    574\n",
       "dtype: int64"
      ]
     },
     "execution_count": 4,
     "metadata": {},
     "output_type": "execute_result"
    }
   ],
   "source": [
    "# Check the number of unique data per field\n",
    "df.nunique()"
   ]
  },
  {
   "cell_type": "code",
   "execution_count": 5,
   "id": "05a10abd",
   "metadata": {},
   "outputs": [
    {
     "name": "stdout",
     "output_type": "stream",
     "text": [
      "Column 'title' has the following repeated values:\n",
      "The Bang Bang Club                4\n",
      "Jersey Boys                       4\n",
      "Escape from Alcatraz              3\n",
      "Lords of Dogtown                  3\n",
      "Devotion                          3\n",
      "                                 ..\n",
      "The Best Intentions               2\n",
      "Quo Vadis                         2\n",
      "Vincent & Theo                    2\n",
      "Backbeat                          2\n",
      "The Barretts of Wimpole Street    2\n",
      "Name: title, Length: 82, dtype: int64\n",
      "\n",
      "Column 'site' has the following repeated values:\n",
      "http://www.imdb.com/title/tt1173687/    4\n",
      "http://www.imdb.com/title/tt1742044/    4\n",
      "http://www.imdb.com/title/tt1042877/    3\n",
      "http://www.imdb.com/title/tt0099762/    3\n",
      "http://www.imdb.com/title/tt0079116/    3\n",
      "                                       ..\n",
      "http://www.imdb.com/title/tt0802948/    2\n",
      "http://www.imdb.com/title/tt0097336/    2\n",
      "http://www.imdb.com/title/tt0056048/    2\n",
      "http://www.imdb.com/title/tt0104350/    2\n",
      "http://www.imdb.com/title/tt0067658/    2\n",
      "Name: site, Length: 78, dtype: int64\n",
      "\n",
      "Column 'country' has the following repeated values:\n",
      "US              489\n",
      "UK              146\n",
      "US/UK            82\n",
      "Canada           18\n",
      "Canada/UK        13\n",
      "US/Canada        11\n",
      "US/UK/Canada      2\n",
      "Name: country, dtype: int64\n",
      "\n",
      "Column 'year_release' has the following repeated values:\n",
      "2013    36\n",
      "2014    33\n",
      "2008    29\n",
      "2007    28\n",
      "2003    26\n",
      "        ..\n",
      "1978     2\n",
      "1933     2\n",
      "1937     2\n",
      "1976     2\n",
      "1963     2\n",
      "Name: year_release, Length: 79, dtype: int64\n",
      "\n",
      "Column 'box_office' has the following repeated values:\n",
      "-         324\n",
      "$6M         6\n",
      "$11M        5\n",
      "$340K       4\n",
      "$47M        4\n",
      "         ... \n",
      "$163M       2\n",
      "$8M         2\n",
      "$11.5M      2\n",
      "$75.6M      2\n",
      "$2.23M      2\n",
      "Name: box_office, Length: 73, dtype: int64\n",
      "\n",
      "Column 'director' has the following repeated values:\n",
      "Richard Attenborough    9\n",
      "Clint Eastwood          9\n",
      "Michael Curtiz          9\n",
      "Mervyn LeRoy            8\n",
      "Ken Russell             7\n",
      "                       ..\n",
      "Peter Glenville         2\n",
      "Bob Balaban             2\n",
      "Gabriel Pascal          2\n",
      "Ridley Scott            2\n",
      "George Roy Hill         2\n",
      "Name: director, Length: 154, dtype: int64\n",
      "\n",
      "Column 'number_of_subjects' has the following repeated values:\n",
      "1    594\n",
      "2    138\n",
      "3     21\n",
      "4      8\n",
      "Name: number_of_subjects, dtype: int64\n",
      "\n",
      "Column 'subject' has the following repeated values:\n",
      "Jesus                            7\n",
      "Abraham Lincoln                  5\n",
      "Che Guevara                      4\n",
      "Oscar Wilde                      3\n",
      "Jesse James                      3\n",
      "Moses                            3\n",
      "John Dillinger                   3\n",
      "Cleopatra                        3\n",
      "Richard Loeb                     2\n",
      "Elizabeth I of England           2\n",
      "Hank Williams                    2\n",
      "Marie Antoinette                 2\n",
      "Thomas Edison                    2\n",
      "Anna Leonowens                   2\n",
      "Annie Oakley                     2\n",
      "Nathan Leopold Jr.               2\n",
      "Wild Bill Hickok                 2\n",
      "Edie Sedgwick                    2\n",
      "John Lennon                      2\n",
      "Steve Prefontaine                2\n",
      "Jean-Michel Basquiat             2\n",
      "Ludwig van Beethoven             2\n",
      "Johann Strauss II                2\n",
      "Henry V of England               2\n",
      "Napoleon Bonaparte               2\n",
      "George Armstrong Custer          2\n",
      "Adolf Hitler                     2\n",
      "Cole Porter                      2\n",
      "Henry McCarty (Billy the Kid)    2\n",
      "Babe Ruth                        2\n",
      "Mary Stuart, Queen of Scots      2\n",
      "Elvis Presley                    2\n",
      "Sigmund Freud                    2\n",
      "Jacques Mesrine                  2\n",
      "Muhammad Ali                     2\n",
      "Alexander the Great              2\n",
      "Al Capone                        2\n",
      "Nelson Mandela                   2\n",
      "Evel Knievel                     2\n",
      "Muhammad                         2\n",
      "Sabina Spielrein                 2\n",
      "Carl Gustav Jung                 2\n",
      "Victoria                         2\n",
      "Dylan Thomas                     2\n",
      "Steve Jobs                       2\n",
      "Jackie Robinson                  2\n",
      "Rembrandt                        2\n",
      "Name: subject, dtype: int64\n",
      "\n",
      "Column 'type_of_subject' has the following repeated values:\n",
      "Other            159\n",
      "Criminal          81\n",
      "Musician          76\n",
      "Historical        76\n",
      "Athlete           74\n",
      "Author            45\n",
      "Military          45\n",
      "Activist          31\n",
      "Artist            29\n",
      "Academic          21\n",
      "Singer            20\n",
      "World leader      17\n",
      "Actress           16\n",
      "Media             15\n",
      "Actor             14\n",
      "Author (poet)     13\n",
      "Medicine           9\n",
      "Comedian           7\n",
      "Government         4\n",
      "Journalist         2\n",
      "Name: type_of_subject, dtype: int64\n",
      "\n",
      "Column 'race_known' has the following repeated values:\n",
      "Known      564\n",
      "Unknown    197\n",
      "Name: race_known, dtype: int64\n",
      "\n",
      "Column 'subject_race' has the following repeated values:\n",
      "White                        428\n",
      "African American              35\n",
      "Multi racial                  24\n",
      "Hispanic (Latin American)     13\n",
      "Middle Eastern (White)        13\n",
      "Middle Eastern                11\n",
      "African                        9\n",
      "Hispanic (Latino)              6\n",
      "Hispanic (White)               6\n",
      "Asian                          5\n",
      "Native American                4\n",
      "Asian American                 3\n",
      "Indian                         2\n",
      "Caribbean                      2\n",
      "Name: subject_race, dtype: int64\n",
      "\n",
      "Column 'person_of_color' has the following repeated values:\n",
      "0    661\n",
      "1    100\n",
      "Name: person_of_color, dtype: int64\n",
      "\n",
      "Column 'subject_sex' has the following repeated values:\n",
      "Male      584\n",
      "Female    177\n",
      "Name: subject_sex, dtype: int64\n",
      "\n",
      "Column 'lead_actor_actress' has the following repeated values:\n",
      "Leonardo DiCaprio    7\n",
      "Denzel Washington    6\n",
      "Paul Newman          5\n",
      "Anthony Hopkins      5\n",
      "Johnny Depp          5\n",
      "                    ..\n",
      "Greer Garson         2\n",
      "Kevin Spacey         2\n",
      "Timothy Spall        2\n",
      "Chadwick Boseman     2\n",
      "Amy Adams            2\n",
      "Name: lead_actor_actress, Length: 117, dtype: int64\n",
      "\n"
     ]
    }
   ],
   "source": [
    "# Function to print values with more than one occurrence\n",
    "def print_repeated_values(df):\n",
    "    for column in df.columns:\n",
    "        value_counts = df[column].value_counts()\n",
    "        repeated_values = value_counts[value_counts > 1]\n",
    "        if not repeated_values.empty:\n",
    "            print(f\"Column '{column}' has the following repeated values:\")\n",
    "            print(repeated_values)\n",
    "            print()\n",
    "\n",
    "# Call the function and check the biopic dataframe\n",
    "print_repeated_values(df)"
   ]
  },
  {
   "cell_type": "markdown",
   "id": "853cee0e",
   "metadata": {},
   "source": [
    "<u>*Finding*</u>:  \n",
    "Total of 761 records are available in the biopic database.  \n",
    "It appears that some duplicates are present for movie titles and subjects, which will need a closer look at.  \n",
    "Also in the fields 'box_office' and 'type_of_subject', top repeated values are missing or generic values, respectively '-' and 'Other'.  \n",
    "This is expected to affect the performance and interpretability of machine learning models."
   ]
  },
  {
   "cell_type": "markdown",
   "id": "2286e4ef",
   "metadata": {},
   "source": [
    "### 3. Data Preparation"
   ]
  },
  {
   "cell_type": "code",
   "execution_count": 6,
   "id": "83ee9892",
   "metadata": {},
   "outputs": [],
   "source": [
    "# Check for duplicates in the title and site columns\n",
    "duplicates = df[df.duplicated(subset=['title', 'site'], keep=False)]"
   ]
  },
  {
   "cell_type": "code",
   "execution_count": 7,
   "id": "beb66779",
   "metadata": {},
   "outputs": [
    {
     "name": "stdout",
     "output_type": "stream",
     "text": [
      "<class 'pandas.core.frame.DataFrame'>\n",
      "Int64Index: 167 entries, 9 to 751\n",
      "Data columns (total 14 columns):\n",
      " #   Column              Non-Null Count  Dtype \n",
      "---  ------              --------------  ----- \n",
      " 0   title               167 non-null    object\n",
      " 1   site                167 non-null    object\n",
      " 2   country             167 non-null    object\n",
      " 3   year_release        167 non-null    int64 \n",
      " 4   box_office          167 non-null    object\n",
      " 5   director            167 non-null    object\n",
      " 6   number_of_subjects  167 non-null    int64 \n",
      " 7   subject             167 non-null    object\n",
      " 8   type_of_subject     167 non-null    object\n",
      " 9   race_known          167 non-null    object\n",
      " 10  subject_race        123 non-null    object\n",
      " 11  person_of_color     167 non-null    int64 \n",
      " 12  subject_sex         167 non-null    object\n",
      " 13  lead_actor_actress  161 non-null    object\n",
      "dtypes: int64(3), object(11)\n",
      "memory usage: 19.6+ KB\n"
     ]
    }
   ],
   "source": [
    "duplicates.info()"
   ]
  },
  {
   "cell_type": "code",
   "execution_count": 8,
   "id": "a6660e36",
   "metadata": {},
   "outputs": [
    {
     "data": {
      "text/plain": [
       "title                  78\n",
       "site                   78\n",
       "country                 6\n",
       "year_release           46\n",
       "box_office             46\n",
       "director               72\n",
       "number_of_subjects      3\n",
       "subject               163\n",
       "type_of_subject        16\n",
       "race_known              2\n",
       "subject_race            8\n",
       "person_of_color         2\n",
       "subject_sex             2\n",
       "lead_actor_actress    149\n",
       "dtype: int64"
      ]
     },
     "execution_count": 8,
     "metadata": {},
     "output_type": "execute_result"
    }
   ],
   "source": [
    "# Check the number of unique data per field in the duplicates\n",
    "duplicates.nunique()"
   ]
  },
  {
   "cell_type": "code",
   "execution_count": 9,
   "id": "c96b7b15",
   "metadata": {},
   "outputs": [
    {
     "data": {
      "text/plain": [
       "2    138\n",
       "3     21\n",
       "4      8\n",
       "Name: number_of_subjects, dtype: int64"
      ]
     },
     "execution_count": 9,
     "metadata": {},
     "output_type": "execute_result"
    }
   ],
   "source": [
    "# Check the number of duplicates per number_of_subjects value\n",
    "duplicates['number_of_subjects'].value_counts()"
   ]
  },
  {
   "cell_type": "code",
   "execution_count": 10,
   "id": "027bb87a",
   "metadata": {},
   "outputs": [
    {
     "data": {
      "text/plain": [
       "167"
      ]
     },
     "execution_count": 10,
     "metadata": {},
     "output_type": "execute_result"
    }
   ],
   "source": [
    "# Double check the sum of above counts equal to the total amount of duplicates\n",
    "duplicates['number_of_subjects'].value_counts().sum()"
   ]
  },
  {
   "cell_type": "markdown",
   "id": "03b50310",
   "metadata": {},
   "source": [
    "<u>*Finding*</u>:  \n",
    "Duplicates are found for movies title with identical link to IMDb website.  \n",
    "These duplicates are only found for movies with more than one subject, as each row of the dataset contains the data for one subject only.\n",
    "\n",
    "<u>*Action*</u>:  \n",
    "When investigating the database with question related to the movies feature itself (in case of this notebook, it applies for questions 1. and 4.), this point will need to be handled carefully. "
   ]
  },
  {
   "cell_type": "code",
   "execution_count": 11,
   "id": "3f60281e",
   "metadata": {},
   "outputs": [],
   "source": [
    "# Check for duplicates in the title and subject columns\n",
    "duplicates_1 = df[df.duplicated(subset=['title', 'subject'], keep=False)]"
   ]
  },
  {
   "cell_type": "code",
   "execution_count": 12,
   "id": "bcd83d54",
   "metadata": {},
   "outputs": [
    {
     "name": "stdout",
     "output_type": "stream",
     "text": [
      "<class 'pandas.core.frame.DataFrame'>\n",
      "Int64Index: 8 entries, 135 to 362\n",
      "Data columns (total 14 columns):\n",
      " #   Column              Non-Null Count  Dtype \n",
      "---  ------              --------------  ----- \n",
      " 0   title               8 non-null      object\n",
      " 1   site                8 non-null      object\n",
      " 2   country             8 non-null      object\n",
      " 3   year_release        8 non-null      int64 \n",
      " 4   box_office          8 non-null      object\n",
      " 5   director            8 non-null      object\n",
      " 6   number_of_subjects  8 non-null      int64 \n",
      " 7   subject             8 non-null      object\n",
      " 8   type_of_subject     8 non-null      object\n",
      " 9   race_known          8 non-null      object\n",
      " 10  subject_race        7 non-null      object\n",
      " 11  person_of_color     8 non-null      int64 \n",
      " 12  subject_sex         8 non-null      object\n",
      " 13  lead_actor_actress  8 non-null      object\n",
      "dtypes: int64(3), object(11)\n",
      "memory usage: 960.0+ bytes\n"
     ]
    }
   ],
   "source": [
    "duplicates_1.info()"
   ]
  },
  {
   "cell_type": "code",
   "execution_count": 13,
   "id": "da2063fe",
   "metadata": {},
   "outputs": [
    {
     "data": {
      "text/html": [
       "<div>\n",
       "<style scoped>\n",
       "    .dataframe tbody tr th:only-of-type {\n",
       "        vertical-align: middle;\n",
       "    }\n",
       "\n",
       "    .dataframe tbody tr th {\n",
       "        vertical-align: top;\n",
       "    }\n",
       "\n",
       "    .dataframe thead th {\n",
       "        text-align: right;\n",
       "    }\n",
       "</style>\n",
       "<table border=\"1\" class=\"dataframe\">\n",
       "  <thead>\n",
       "    <tr style=\"text-align: right;\">\n",
       "      <th></th>\n",
       "      <th>title</th>\n",
       "      <th>site</th>\n",
       "      <th>country</th>\n",
       "      <th>year_release</th>\n",
       "      <th>box_office</th>\n",
       "      <th>director</th>\n",
       "      <th>number_of_subjects</th>\n",
       "      <th>subject</th>\n",
       "      <th>type_of_subject</th>\n",
       "      <th>race_known</th>\n",
       "      <th>subject_race</th>\n",
       "      <th>person_of_color</th>\n",
       "      <th>subject_sex</th>\n",
       "      <th>lead_actor_actress</th>\n",
       "    </tr>\n",
       "  </thead>\n",
       "  <tbody>\n",
       "    <tr>\n",
       "      <th>135</th>\n",
       "      <td>Cleopatra</td>\n",
       "      <td>http://www.imdb.com/title/tt0024991/</td>\n",
       "      <td>US</td>\n",
       "      <td>1934</td>\n",
       "      <td>-</td>\n",
       "      <td>Cecil B. DeMille</td>\n",
       "      <td>1</td>\n",
       "      <td>Cleopatra</td>\n",
       "      <td>Historical</td>\n",
       "      <td>Known</td>\n",
       "      <td>Middle Eastern</td>\n",
       "      <td>1</td>\n",
       "      <td>Female</td>\n",
       "      <td>Claudette Colbert</td>\n",
       "    </tr>\n",
       "    <tr>\n",
       "      <th>136</th>\n",
       "      <td>Cleopatra</td>\n",
       "      <td>http://www.imdb.com/title/tt0056937/</td>\n",
       "      <td>US/UK</td>\n",
       "      <td>1963</td>\n",
       "      <td>$57.8M</td>\n",
       "      <td>Joseph L. Mankiewicz</td>\n",
       "      <td>1</td>\n",
       "      <td>Cleopatra</td>\n",
       "      <td>Historical</td>\n",
       "      <td>Known</td>\n",
       "      <td>Middle Eastern</td>\n",
       "      <td>1</td>\n",
       "      <td>Female</td>\n",
       "      <td>Elizabeth Taylor</td>\n",
       "    </tr>\n",
       "    <tr>\n",
       "      <th>172</th>\n",
       "      <td>Dillinger</td>\n",
       "      <td>http://www.imdb.com/title/tt0037644/</td>\n",
       "      <td>US</td>\n",
       "      <td>1945</td>\n",
       "      <td>$4M</td>\n",
       "      <td>Max Nosseck</td>\n",
       "      <td>1</td>\n",
       "      <td>John Dillinger</td>\n",
       "      <td>Criminal</td>\n",
       "      <td>Known</td>\n",
       "      <td>White</td>\n",
       "      <td>0</td>\n",
       "      <td>Male</td>\n",
       "      <td>Lawrence Tierney</td>\n",
       "    </tr>\n",
       "    <tr>\n",
       "      <th>173</th>\n",
       "      <td>Dillinger</td>\n",
       "      <td>http://www.imdb.com/title/tt0069976/</td>\n",
       "      <td>US</td>\n",
       "      <td>1973</td>\n",
       "      <td>-</td>\n",
       "      <td>John Milius</td>\n",
       "      <td>1</td>\n",
       "      <td>John Dillinger</td>\n",
       "      <td>Criminal</td>\n",
       "      <td>Unknown</td>\n",
       "      <td>NaN</td>\n",
       "      <td>0</td>\n",
       "      <td>Male</td>\n",
       "      <td>Warren Oates</td>\n",
       "    </tr>\n",
       "    <tr>\n",
       "      <th>250</th>\n",
       "      <td>Henry V</td>\n",
       "      <td>http://www.imdb.com/title/tt0036910/</td>\n",
       "      <td>UK</td>\n",
       "      <td>1944</td>\n",
       "      <td>-</td>\n",
       "      <td>Laurence Olivier</td>\n",
       "      <td>1</td>\n",
       "      <td>Henry V of England</td>\n",
       "      <td>Historical</td>\n",
       "      <td>Known</td>\n",
       "      <td>White</td>\n",
       "      <td>0</td>\n",
       "      <td>Male</td>\n",
       "      <td>Laurence Olivier</td>\n",
       "    </tr>\n",
       "    <tr>\n",
       "      <th>251</th>\n",
       "      <td>Henry V</td>\n",
       "      <td>http://www.imdb.com/title/tt0097499/</td>\n",
       "      <td>UK</td>\n",
       "      <td>1989</td>\n",
       "      <td>$10.2M</td>\n",
       "      <td>Kenneth Branagh</td>\n",
       "      <td>1</td>\n",
       "      <td>Henry V of England</td>\n",
       "      <td>Historical</td>\n",
       "      <td>Known</td>\n",
       "      <td>White</td>\n",
       "      <td>0</td>\n",
       "      <td>Male</td>\n",
       "      <td>Kenneth Branagh</td>\n",
       "    </tr>\n",
       "    <tr>\n",
       "      <th>361</th>\n",
       "      <td>Marie Antoinette</td>\n",
       "      <td>http://www.imdb.com/title/tt0030418/</td>\n",
       "      <td>US</td>\n",
       "      <td>1938</td>\n",
       "      <td>-</td>\n",
       "      <td>W.S. Van Dyke</td>\n",
       "      <td>1</td>\n",
       "      <td>Marie Antoinette</td>\n",
       "      <td>Historical</td>\n",
       "      <td>Known</td>\n",
       "      <td>White</td>\n",
       "      <td>0</td>\n",
       "      <td>Female</td>\n",
       "      <td>Norma Shearer</td>\n",
       "    </tr>\n",
       "    <tr>\n",
       "      <th>362</th>\n",
       "      <td>Marie Antoinette</td>\n",
       "      <td>http://www.imdb.com/title/tt0422720/</td>\n",
       "      <td>US</td>\n",
       "      <td>2006</td>\n",
       "      <td>$16M</td>\n",
       "      <td>Sofia Coppola</td>\n",
       "      <td>1</td>\n",
       "      <td>Marie Antoinette</td>\n",
       "      <td>Historical</td>\n",
       "      <td>Known</td>\n",
       "      <td>White</td>\n",
       "      <td>0</td>\n",
       "      <td>Female</td>\n",
       "      <td>Kirsten Dunst</td>\n",
       "    </tr>\n",
       "  </tbody>\n",
       "</table>\n",
       "</div>"
      ],
      "text/plain": [
       "                title                                  site country  \\\n",
       "135         Cleopatra  http://www.imdb.com/title/tt0024991/      US   \n",
       "136         Cleopatra  http://www.imdb.com/title/tt0056937/   US/UK   \n",
       "172         Dillinger  http://www.imdb.com/title/tt0037644/      US   \n",
       "173         Dillinger  http://www.imdb.com/title/tt0069976/      US   \n",
       "250           Henry V  http://www.imdb.com/title/tt0036910/      UK   \n",
       "251           Henry V  http://www.imdb.com/title/tt0097499/      UK   \n",
       "361  Marie Antoinette  http://www.imdb.com/title/tt0030418/      US   \n",
       "362  Marie Antoinette  http://www.imdb.com/title/tt0422720/      US   \n",
       "\n",
       "     year_release box_office              director  number_of_subjects  \\\n",
       "135          1934          -      Cecil B. DeMille                   1   \n",
       "136          1963     $57.8M  Joseph L. Mankiewicz                   1   \n",
       "172          1945        $4M           Max Nosseck                   1   \n",
       "173          1973          -           John Milius                   1   \n",
       "250          1944          -      Laurence Olivier                   1   \n",
       "251          1989     $10.2M       Kenneth Branagh                   1   \n",
       "361          1938          -         W.S. Van Dyke                   1   \n",
       "362          2006       $16M         Sofia Coppola                   1   \n",
       "\n",
       "                subject type_of_subject race_known    subject_race  \\\n",
       "135           Cleopatra      Historical      Known  Middle Eastern   \n",
       "136           Cleopatra      Historical      Known  Middle Eastern   \n",
       "172      John Dillinger        Criminal      Known           White   \n",
       "173      John Dillinger        Criminal    Unknown             NaN   \n",
       "250  Henry V of England      Historical      Known           White   \n",
       "251  Henry V of England      Historical      Known           White   \n",
       "361    Marie Antoinette      Historical      Known           White   \n",
       "362    Marie Antoinette      Historical      Known           White   \n",
       "\n",
       "     person_of_color subject_sex lead_actor_actress  \n",
       "135                1      Female  Claudette Colbert  \n",
       "136                1      Female   Elizabeth Taylor  \n",
       "172                0        Male   Lawrence Tierney  \n",
       "173                0        Male       Warren Oates  \n",
       "250                0        Male   Laurence Olivier  \n",
       "251                0        Male    Kenneth Branagh  \n",
       "361                0      Female      Norma Shearer  \n",
       "362                0      Female      Kirsten Dunst  "
      ]
     },
     "execution_count": 13,
     "metadata": {},
     "output_type": "execute_result"
    }
   ],
   "source": [
    "duplicates_1"
   ]
  },
  {
   "cell_type": "markdown",
   "id": "6a9efe7b",
   "metadata": {},
   "source": [
    "<u>*Finding*</u>: \n",
    "Duplicates are also found for movies title with identical subject.  \n",
    "These movies are different movies, 4 subjects (Cleopatra, John Dillinger, Henri V and Marie Antoinette) had been the subject of different biopics twice.\n",
    "\n",
    "<u>*Action*</u>:\n",
    "No action required with respect to the questions investigated in this notebook. "
   ]
  },
  {
   "cell_type": "code",
   "execution_count": 14,
   "id": "47fbbf92",
   "metadata": {},
   "outputs": [],
   "source": [
    "# Check for duplicates in the site and subject columns\n",
    "duplicates_2 = df[df.duplicated(subset=['site','subject'], keep=False)]"
   ]
  },
  {
   "cell_type": "code",
   "execution_count": 15,
   "id": "c508e8d6",
   "metadata": {},
   "outputs": [
    {
     "name": "stdout",
     "output_type": "stream",
     "text": [
      "<class 'pandas.core.frame.DataFrame'>\n",
      "Int64Index: 0 entries\n",
      "Data columns (total 14 columns):\n",
      " #   Column              Non-Null Count  Dtype \n",
      "---  ------              --------------  ----- \n",
      " 0   title               0 non-null      object\n",
      " 1   site                0 non-null      object\n",
      " 2   country             0 non-null      object\n",
      " 3   year_release        0 non-null      int64 \n",
      " 4   box_office          0 non-null      object\n",
      " 5   director            0 non-null      object\n",
      " 6   number_of_subjects  0 non-null      int64 \n",
      " 7   subject             0 non-null      object\n",
      " 8   type_of_subject     0 non-null      object\n",
      " 9   race_known          0 non-null      object\n",
      " 10  subject_race        0 non-null      object\n",
      " 11  person_of_color     0 non-null      int64 \n",
      " 12  subject_sex         0 non-null      object\n",
      " 13  lead_actor_actress  0 non-null      object\n",
      "dtypes: int64(3), object(11)\n",
      "memory usage: 0.0+ bytes\n"
     ]
    }
   ],
   "source": [
    "duplicates_2.info()"
   ]
  },
  {
   "cell_type": "markdown",
   "id": "160b5ff6",
   "metadata": {},
   "source": [
    "<u>*Finding*</u>: \n",
    "There is no record in the database of movie site duplicates with same subject.\n",
    "\n",
    "<u>*Action*</u>:\n",
    "No further action, all duplicates have been identified and no duplicate need to be removed from the original database."
   ]
  },
  {
   "cell_type": "code",
   "execution_count": 16,
   "id": "3eb0091e",
   "metadata": {},
   "outputs": [],
   "source": [
    "# # Scrap the movies ratings from IMDb website\n",
    "# # The full cell is commented to reduce the notebook running time\n",
    "\n",
    "# def get_imdb_rating(url):\n",
    "#     try:\n",
    "#         headers = {\n",
    "#             \"User-Agent\": \"Mozilla/5.0 (Windows NT 10.0; Win64; x64) AppleWebKit/537.36 (KHTML, like Gecko) Chrome/58.0.3029.110 Safari/537.3\"}\n",
    "#         response = requests.get(url, headers=headers)\n",
    "#         if response.status_code == 200:\n",
    "#             soup = BeautifulSoup(response.text, 'html.parser')\n",
    "#             # IMDb rating is found within a 'span' tag with a specific class\n",
    "#             rating_tag = soup.find('span', class_='sc-bde20123-1 cMEQkK')\n",
    "#             if rating_tag:\n",
    "#                 return float(rating_tag.text.strip())\n",
    "#             else:\n",
    "#                 return None\n",
    "#         else:\n",
    "#             return None\n",
    "#     except Exception as e:\n",
    "#         print(f\"Error fetching rating from {url}: {e}\")\n",
    "#         return None   \n",
    "    \n",
    "# # Create a new column for the ratings\n",
    "# df['rating'] = df['site'].apply(get_imdb_rating)\n",
    "\n",
    "# # Create new Excel file to import database in below cell\n",
    "# df.to_excel(\"biopics_with_ratings.xlsx\", index=False)"
   ]
  },
  {
   "cell_type": "code",
   "execution_count": 17,
   "id": "5b94ab23",
   "metadata": {},
   "outputs": [],
   "source": [
    "# Load the dataframe with IMDb ratings from Excel file created in above cell\n",
    "df = pd.read_excel(\"biopics_with_ratings.xlsx\")"
   ]
  },
  {
   "cell_type": "code",
   "execution_count": 18,
   "id": "3bed1cc1",
   "metadata": {},
   "outputs": [],
   "source": [
    "# Create a new column 'decade' from the 'release_year' column\n",
    "df['decade'] = df['year_release'].apply(lambda x: f\"{(x // 10) * 10} - {(x // 10) * 10 + 9}\")"
   ]
  },
  {
   "cell_type": "code",
   "execution_count": 19,
   "id": "0b228362",
   "metadata": {},
   "outputs": [],
   "source": [
    "# Create a new column 'rating_range' from the rating column\n",
    "df['rating_range'] = df['rating'].apply(lambda x: f\"{x // 1} - {x // 1 + 1}\")"
   ]
  },
  {
   "cell_type": "code",
   "execution_count": 20,
   "id": "c75afe6b",
   "metadata": {},
   "outputs": [],
   "source": [
    "# Function to clean and convert 'box_office' data to float\n",
    "def clean_revenue(revenue_str):\n",
    "    if isinstance(revenue_str, str):\n",
    "        # Use regex to find the numerical part and the scale\n",
    "        match = re.match(r'\\$?([\\d,.]+)([MBK]?)', revenue_str.replace(',', ''))\n",
    "        if match:\n",
    "            number = float(match.group(1))\n",
    "            scale = match.group(2)\n",
    "            if scale == 'M':\n",
    "                return number * 1e6\n",
    "            elif scale == 'B':\n",
    "                return number * 1e9\n",
    "            elif scale == 'K':\n",
    "                return number * 1e3\n",
    "            else:\n",
    "                return number\n",
    "    return None\n",
    "\n",
    "# Apply the function to clean and convert box_office\n",
    "df['box_office'] = df['box_office'].apply(clean_revenue)"
   ]
  },
  {
   "cell_type": "code",
   "execution_count": 21,
   "id": "c2694d26",
   "metadata": {},
   "outputs": [
    {
     "data": {
      "text/html": [
       "<div>\n",
       "<style scoped>\n",
       "    .dataframe tbody tr th:only-of-type {\n",
       "        vertical-align: middle;\n",
       "    }\n",
       "\n",
       "    .dataframe tbody tr th {\n",
       "        vertical-align: top;\n",
       "    }\n",
       "\n",
       "    .dataframe thead th {\n",
       "        text-align: right;\n",
       "    }\n",
       "</style>\n",
       "<table border=\"1\" class=\"dataframe\">\n",
       "  <thead>\n",
       "    <tr style=\"text-align: right;\">\n",
       "      <th></th>\n",
       "      <th>title</th>\n",
       "      <th>site</th>\n",
       "      <th>country</th>\n",
       "      <th>year_release</th>\n",
       "      <th>box_office</th>\n",
       "      <th>director</th>\n",
       "      <th>number_of_subjects</th>\n",
       "      <th>subject</th>\n",
       "      <th>type_of_subject</th>\n",
       "      <th>race_known</th>\n",
       "      <th>subject_race</th>\n",
       "      <th>person_of_color</th>\n",
       "      <th>subject_sex</th>\n",
       "      <th>lead_actor_actress</th>\n",
       "      <th>rating</th>\n",
       "      <th>decade</th>\n",
       "      <th>rating_range</th>\n",
       "    </tr>\n",
       "  </thead>\n",
       "  <tbody>\n",
       "    <tr>\n",
       "      <th>0</th>\n",
       "      <td>10 Rillington Place</td>\n",
       "      <td>http://www.imdb.com/title/tt0066730/</td>\n",
       "      <td>UK</td>\n",
       "      <td>1971</td>\n",
       "      <td>NaN</td>\n",
       "      <td>Richard Fleischer</td>\n",
       "      <td>1</td>\n",
       "      <td>John Christie</td>\n",
       "      <td>Criminal</td>\n",
       "      <td>Unknown</td>\n",
       "      <td>NaN</td>\n",
       "      <td>0</td>\n",
       "      <td>Male</td>\n",
       "      <td>Richard Attenborough</td>\n",
       "      <td>7.5</td>\n",
       "      <td>1970 - 1979</td>\n",
       "      <td>7.0 - 8.0</td>\n",
       "    </tr>\n",
       "    <tr>\n",
       "      <th>1</th>\n",
       "      <td>12 Years a Slave</td>\n",
       "      <td>http://www.imdb.com/title/tt2024544/</td>\n",
       "      <td>US/UK</td>\n",
       "      <td>2013</td>\n",
       "      <td>56700000.0</td>\n",
       "      <td>Steve McQueen</td>\n",
       "      <td>1</td>\n",
       "      <td>Solomon Northup</td>\n",
       "      <td>Other</td>\n",
       "      <td>Known</td>\n",
       "      <td>African American</td>\n",
       "      <td>1</td>\n",
       "      <td>Male</td>\n",
       "      <td>Chiwetel Ejiofor</td>\n",
       "      <td>8.1</td>\n",
       "      <td>2010 - 2019</td>\n",
       "      <td>8.0 - 9.0</td>\n",
       "    </tr>\n",
       "    <tr>\n",
       "      <th>2</th>\n",
       "      <td>127 Hours</td>\n",
       "      <td>http://www.imdb.com/title/tt1542344/</td>\n",
       "      <td>US/UK</td>\n",
       "      <td>2010</td>\n",
       "      <td>18300000.0</td>\n",
       "      <td>Danny Boyle</td>\n",
       "      <td>1</td>\n",
       "      <td>Aron Ralston</td>\n",
       "      <td>Athlete</td>\n",
       "      <td>Unknown</td>\n",
       "      <td>NaN</td>\n",
       "      <td>0</td>\n",
       "      <td>Male</td>\n",
       "      <td>James Franco</td>\n",
       "      <td>7.5</td>\n",
       "      <td>2010 - 2019</td>\n",
       "      <td>7.0 - 8.0</td>\n",
       "    </tr>\n",
       "    <tr>\n",
       "      <th>3</th>\n",
       "      <td>1987</td>\n",
       "      <td>http://www.imdb.com/title/tt2833074/</td>\n",
       "      <td>Canada</td>\n",
       "      <td>2014</td>\n",
       "      <td>NaN</td>\n",
       "      <td>Ricardo Trogi</td>\n",
       "      <td>1</td>\n",
       "      <td>Ricardo Trogi</td>\n",
       "      <td>Other</td>\n",
       "      <td>Known</td>\n",
       "      <td>White</td>\n",
       "      <td>0</td>\n",
       "      <td>Male</td>\n",
       "      <td>Jean-Carl Boucher</td>\n",
       "      <td>7.4</td>\n",
       "      <td>2010 - 2019</td>\n",
       "      <td>7.0 - 8.0</td>\n",
       "    </tr>\n",
       "    <tr>\n",
       "      <th>4</th>\n",
       "      <td>20 Dates</td>\n",
       "      <td>http://www.imdb.com/title/tt0138987/</td>\n",
       "      <td>US</td>\n",
       "      <td>1998</td>\n",
       "      <td>537000.0</td>\n",
       "      <td>Myles Berkowitz</td>\n",
       "      <td>1</td>\n",
       "      <td>Myles Berkowitz</td>\n",
       "      <td>Other</td>\n",
       "      <td>Unknown</td>\n",
       "      <td>NaN</td>\n",
       "      <td>0</td>\n",
       "      <td>Male</td>\n",
       "      <td>Myles Berkowitz</td>\n",
       "      <td>5.6</td>\n",
       "      <td>1990 - 1999</td>\n",
       "      <td>5.0 - 6.0</td>\n",
       "    </tr>\n",
       "  </tbody>\n",
       "</table>\n",
       "</div>"
      ],
      "text/plain": [
       "                 title                                  site country  \\\n",
       "0  10 Rillington Place  http://www.imdb.com/title/tt0066730/      UK   \n",
       "1     12 Years a Slave  http://www.imdb.com/title/tt2024544/   US/UK   \n",
       "2            127 Hours  http://www.imdb.com/title/tt1542344/   US/UK   \n",
       "3                 1987  http://www.imdb.com/title/tt2833074/  Canada   \n",
       "4             20 Dates  http://www.imdb.com/title/tt0138987/      US   \n",
       "\n",
       "   year_release  box_office           director  number_of_subjects  \\\n",
       "0          1971         NaN  Richard Fleischer                   1   \n",
       "1          2013  56700000.0      Steve McQueen                   1   \n",
       "2          2010  18300000.0        Danny Boyle                   1   \n",
       "3          2014         NaN      Ricardo Trogi                   1   \n",
       "4          1998    537000.0    Myles Berkowitz                   1   \n",
       "\n",
       "            subject type_of_subject race_known      subject_race  \\\n",
       "0     John Christie        Criminal    Unknown               NaN   \n",
       "1   Solomon Northup           Other      Known  African American   \n",
       "2      Aron Ralston         Athlete    Unknown               NaN   \n",
       "3     Ricardo Trogi           Other      Known             White   \n",
       "4   Myles Berkowitz           Other    Unknown               NaN   \n",
       "\n",
       "   person_of_color subject_sex    lead_actor_actress  rating       decade  \\\n",
       "0                0        Male  Richard Attenborough     7.5  1970 - 1979   \n",
       "1                1        Male      Chiwetel Ejiofor     8.1  2010 - 2019   \n",
       "2                0        Male          James Franco     7.5  2010 - 2019   \n",
       "3                0        Male     Jean-Carl Boucher     7.4  2010 - 2019   \n",
       "4                0        Male       Myles Berkowitz     5.6  1990 - 1999   \n",
       "\n",
       "  rating_range  \n",
       "0    7.0 - 8.0  \n",
       "1    8.0 - 9.0  \n",
       "2    7.0 - 8.0  \n",
       "3    7.0 - 8.0  \n",
       "4    5.0 - 6.0  "
      ]
     },
     "execution_count": 21,
     "metadata": {},
     "output_type": "execute_result"
    }
   ],
   "source": [
    "# Check the first rows of the data frame\n",
    "df.head(5)"
   ]
  },
  {
   "cell_type": "code",
   "execution_count": 22,
   "id": "49d342b8",
   "metadata": {},
   "outputs": [],
   "source": [
    "# Apply pd.get_dummies to 'decade' and 'subject_sex' but keep the original columns\n",
    "decade_dummies = pd.get_dummies(df['decade'], prefix= 'decade', drop_first=True)\n",
    "sex_dummies = pd.get_dummies(df['subject_sex'], prefix= 'sex', drop_first=True)\n",
    "rating_dummies = pd.get_dummies(df['rating_range'], prefix= 'rating', drop_first=True)\n",
    "\n",
    "# Concatenate the original DataFrame with the dummy variables\n",
    "df_with_dummies = pd.concat([df, decade_dummies, sex_dummies, rating_dummies], axis=1)"
   ]
  },
  {
   "cell_type": "markdown",
   "id": "4c2d5288",
   "metadata": {},
   "source": [
    "### 4. Analysis"
   ]
  },
  {
   "cell_type": "markdown",
   "id": "1cb1e0e2",
   "metadata": {},
   "source": [
    "#### 1. What is the distribution of biopic movies over the years and the gender diversity in the biopics subjects?"
   ]
  },
  {
   "cell_type": "code",
   "execution_count": 23,
   "id": "7dc63047",
   "metadata": {
    "scrolled": true
   },
   "outputs": [
    {
     "data": {
      "image/png": "[encoded data removed]",
      "text/plain": [
       "<Figure size 1008x576 with 1 Axes>"
      ]
     },
     "metadata": {
      "needs_background": "light"
     },
     "output_type": "display_data"
    }
   ],
   "source": [
    "# Calculate the total number of movies per decade (each movie counted once)\n",
    "movies_per_decade = df.drop_duplicates(subset=['site']).groupby('decade').size()\n",
    "\n",
    "# Calculate the total number of subjects per decade and subject sex\n",
    "subjects_per_decade_sex = df.groupby(['decade', 'subject_sex']).size().unstack().fillna(0)\n",
    "\n",
    "# Create a DataFrame for plotting\n",
    "plot_df = pd.DataFrame({\n",
    "    'Total Movies': movies_per_decade,\n",
    "    'Male Subjects': subjects_per_decade_sex['Male'],\n",
    "    'Female Subjects': subjects_per_decade_sex['Female']\n",
    "}).fillna(0)\n",
    "\n",
    "# Plot the data\n",
    "fig, ax = plt.subplots(figsize=(14, 8))\n",
    "\n",
    "# Define bar width\n",
    "bar_width = 0.25\n",
    "\n",
    "# Positions of the bars on the x-axis\n",
    "index = np.arange(len(plot_df))\n",
    "\n",
    "# Plot total movies per decade\n",
    "bar1 = ax.bar(index, plot_df['Total Movies'], bar_width, label='Total Movies', color='gray')\n",
    "\n",
    "# Plot number of subjects by sex\n",
    "bar2 = ax.bar(index + bar_width, plot_df['Male Subjects'], bar_width, label='Male Subjects', color='blue', alpha=0.7)\n",
    "bar3 = ax.bar(index + 2 * bar_width, plot_df['Female Subjects'], bar_width, label='Female Subjects', color='red', alpha=0.7)\n",
    "\n",
    "# Add labels and title\n",
    "ax.set_xlabel('Years', fontsize=14)\n",
    "ax.set_ylabel('Count', fontsize=14)\n",
    "ax.set_title('Distribution of Biopic Movies and Subjects by Decades and Sex', fontsize=16)\n",
    "ax.set_xticks(index + bar_width)\n",
    "ax.set_xticklabels(plot_df.index, rotation=45)\n",
    "\n",
    "# Combine legends\n",
    "ax.legend()\n",
    "\n",
    "plt.tight_layout()\n",
    "plt.show()"
   ]
  },
  {
   "cell_type": "markdown",
   "id": "ee4eea28",
   "metadata": {},
   "source": [
    "<u>*Finding*</u>: \n",
    "There is an increase of biopics movies released since 1990, but through the last century there is a clear and constant trend that biopics are mostly made about male subjects. "
   ]
  },
  {
   "cell_type": "markdown",
   "id": "9c40060a",
   "metadata": {},
   "source": [
    "#### 2. Who are the most frequent actors playing in biopics and which type of subject do they play?"
   ]
  },
  {
   "cell_type": "code",
   "execution_count": 24,
   "id": "96430f6a",
   "metadata": {},
   "outputs": [
    {
     "name": "stdout",
     "output_type": "stream",
     "text": [
      "Most frequent actors in biopics:\n",
      "Leonardo DiCaprio    7\n",
      "Denzel Washington    6\n",
      "Paul Newman          5\n",
      "Anthony Hopkins      5\n",
      "Johnny Depp          5\n",
      "Ed Harris            4\n",
      "Gary Cooper          4\n",
      "Meryl Streep         4\n",
      "Hilary Swank         4\n",
      "Liam Neeson          4\n",
      "Name: lead_actor_actress, dtype: int64\n"
     ]
    }
   ],
   "source": [
    "# Find the top 10 most frequent actors in biopics\n",
    "actors = df['lead_actor_actress'].value_counts().head(10)\n",
    "print(\"Most frequent actors in biopics:\")\n",
    "print(actors)"
   ]
  },
  {
   "cell_type": "code",
   "execution_count": 25,
   "id": "ad7d4d74",
   "metadata": {},
   "outputs": [
    {
     "name": "stdout",
     "output_type": "stream",
     "text": [
      "Types of subjects played by these actors:\n",
      "Leonardo DiCaprio: Criminal, Government, Other, Author, Author (poet)\n",
      "Denzel Washington: Criminal, Activist, Athlete, Academic\n",
      "Paul Newman: Politician, Criminal, Military, Athlete\n",
      "Anthony Hopkins: Author, Other, World leader, Athlete\n",
      "Johnny Depp: Criminal, Government, Other, Author\n",
      "Ed Harris: Musician, Artist, Athlete, Other\n",
      "Gary Cooper: Military, Historical, Athlete\n",
      "Meryl Streep: Other, Activist, World leader\n",
      "Hilary Swank: Other\n",
      "Liam Neeson: Academic, Activist, Other\n"
     ]
    }
   ],
   "source": [
    "# List all the types of subjects each top actor has played\n",
    "actor_subjects = df.groupby('lead_actor_actress')['type_of_subject'].apply(lambda x: x.unique()).loc[actors.index]\n",
    "\n",
    "# Print the types of subjects played by each of these actors\n",
    "print(\"Types of subjects played by these actors:\")\n",
    "for actor, subjects in actor_subjects.items():\n",
    "    print(f\"{actor}: {', '.join(subjects)}\")"
   ]
  },
  {
   "cell_type": "markdown",
   "id": "11bd4011",
   "metadata": {},
   "source": [
    "<u>*Finding*</u>: \n",
    "As one could expect, the majority of biopics subjects being male subjects, the most frequent actors playing in biopics are also male actors. Regarding the type of occupation (or reason for recognition) of the subjects, there is no clear trend as each actor played a variety of subject types.  "
   ]
  },
  {
   "cell_type": "markdown",
   "id": "b838c649",
   "metadata": {},
   "source": [
    "#### 3. What are the most common attributes (sex, race, profession) of the biopic subjects?"
   ]
  },
  {
   "cell_type": "code",
   "execution_count": 26,
   "id": "dacc693f",
   "metadata": {},
   "outputs": [
    {
     "data": {
      "image/png": "[encoded data removed]",
      "text/plain": [
       "<Figure size 1008x1440 with 3 Axes>"
      ]
     },
     "metadata": {
      "needs_background": "light"
     },
     "output_type": "display_data"
    }
   ],
   "source": [
    "# Calculate the most common attributes\n",
    "common_sex = df['subject_sex'].value_counts()\n",
    "common_race = df['subject_race'].value_counts()\n",
    "common_profession = df['type_of_subject'].value_counts()\n",
    "\n",
    "# Plot the most common attributes\n",
    "fig, axs = plt.subplots(3, 1, figsize=(14, 20))\n",
    "\n",
    "# Increase the vertical gaps between subplots\n",
    "fig.subplots_adjust(hspace=1.5)\n",
    "\n",
    "# Plot for sex\n",
    "axs[0].bar(common_sex.index, common_sex.values, color='skyblue')\n",
    "axs[0].set_title('Most Common Sexes of Biopic Subjects', fontsize=16)\n",
    "axs[0].set_xlabel('subject_sex', fontsize=14)\n",
    "axs[0].set_ylabel('Count', fontsize=14)\n",
    "axs[0].tick_params(axis='x', labelsize=12)\n",
    "axs[0].tick_params(axis='y', labelsize=12)\n",
    "\n",
    "# Plot for race\n",
    "axs[1].bar(common_race.index, common_race.values, color='lightgreen')\n",
    "axs[1].set_title('Most Common Races of Biopic Subjects', fontsize=16)\n",
    "axs[1].set_xlabel('subject_race', fontsize=14)\n",
    "axs[1].set_ylabel('Count', fontsize=14)\n",
    "axs[1].tick_params(axis='x', labelsize=12, rotation=90)\n",
    "axs[1].tick_params(axis='y', labelsize=12)\n",
    "\n",
    "# Plot for profession\n",
    "axs[2].bar(common_profession.index, common_profession.values, color='lightcoral')\n",
    "axs[2].set_title('Most Common Professions of Biopic Subjects', fontsize=16)\n",
    "axs[2].set_xlabel('type_of_subject', fontsize=14)\n",
    "axs[2].set_ylabel('Count', fontsize=14)\n",
    "axs[2].tick_params(axis='x', labelsize=12, rotation=90)\n",
    "axs[2].tick_params(axis='y', labelsize=12)\n",
    "\n",
    "plt.show()"
   ]
  },
  {
   "cell_type": "markdown",
   "id": "61920e12",
   "metadata": {},
   "source": [
    "<u>*Finding*</u>: \n",
    "White (and male) subjects are the main subjects of biopics.  \n",
    "In terms of profession (or reason for recognition) there is a wide range represented in biopics. "
   ]
  },
  {
   "cell_type": "markdown",
   "id": "559b8613",
   "metadata": {},
   "source": [
    "#### 4. Which biopic movies received the highest ratings and is there a correlation with its box office revenue?"
   ]
  },
  {
   "cell_type": "code",
   "execution_count": 27,
   "id": "8005adef",
   "metadata": {},
   "outputs": [
    {
     "name": "stdout",
     "output_type": "stream",
     "text": [
      "Top rated biopic movies:\n",
      "                                  title  rating   box_office\n",
      "38                      American Sniper     7.3  350000000.0\n",
      "545                      The Blind Side     7.6  256000000.0\n",
      "332                             Lincoln     7.3  182000000.0\n",
      "11                     A Beautiful Mind     8.2  171000000.0\n",
      "122                 Catch Me If You Can     8.1  164000000.0\n",
      "669                  The Sound of Music     8.1  163000000.0\n",
      "653            The Pursuit of Happyness     8.0  163000000.0\n",
      "605                   The King's Speech     8.0  139000000.0\n",
      "422                         Patch Adams     6.8  135000000.0\n",
      "36                    American Gangster     7.8  130000000.0\n",
      "189                     Erin Brockovich     7.4  126000000.0\n",
      "336                       Lone Survivor     7.5  125000000.0\n",
      "230               Good Morning, Vietnam     7.3  124000000.0\n",
      "732                       Walk the Line     7.8  120000000.0\n",
      "690             The Wolf of Wall Street     8.2  117000000.0\n",
      "330             Lee Daniels' The Butler     7.2  117000000.0\n",
      "719                            Unbroken     7.2  116000000.0\n",
      "453                 Remember the Titans     7.8  116000000.0\n",
      "112                    Captain Phillips     7.8  107000000.0\n",
      "531                         The Aviator     7.5  103000000.0\n",
      "100  Butch Cassidy and the Sundance Kid     8.0  102000000.0\n",
      "646                 The Prince of Egypt     7.2  101000000.0\n",
      "438                      Public Enemies     7.0   97000000.0\n",
      "663                  The Social Network     7.8   96900000.0\n",
      "475                    Schindler's List     9.0   96100000.0\n",
      "7                                    42     7.5   95000000.0\n",
      "310                       Julie & Julia     7.0   94100000.0\n",
      "570                         The Fighter     7.8   93600000.0\n",
      "595                  The Imitation Game     8.0   91100000.0\n",
      "417                       Out of Africa     7.1   87100000.0\n"
     ]
    }
   ],
   "source": [
    "# Find the top 30 best rated biopics\n",
    "top_rated_biopics = df.drop_duplicates(subset=['site'])[['title', 'rating', 'box_office']].sort_values(by='box_office', ascending=False).head(30)\n",
    "print(\"Top rated biopic movies:\")\n",
    "print(top_rated_biopics)"
   ]
  },
  {
   "cell_type": "code",
   "execution_count": 28,
   "id": "4fdc9c7b",
   "metadata": {},
   "outputs": [
    {
     "name": "stdout",
     "output_type": "stream",
     "text": [
      "Correlation between rating and box office revenue: 0.3715619892313854\n"
     ]
    }
   ],
   "source": [
    "# Check correlation between rating and box office revenue\n",
    "# Create new dataframe without movies duplicate\n",
    "df_correlation = df.drop_duplicates(subset=['site'])[['rating', 'box_office']]\n",
    "\n",
    "# Drop records without box office revenue data\n",
    "df_correlation = df_correlation.dropna()\n",
    "\n",
    "correlation = df_correlation.corr().iloc[0, 1]\n",
    "print(f\"Correlation between rating and box office revenue: {correlation}\")"
   ]
  },
  {
   "cell_type": "code",
   "execution_count": 29,
   "id": "9ca6bbb9",
   "metadata": {
    "scrolled": true
   },
   "outputs": [
    {
     "data": {
      "image/png": "[encoded data removed]",
      "text/plain": [
       "<Figure size 864x576 with 1 Axes>"
      ]
     },
     "metadata": {
      "needs_background": "light"
     },
     "output_type": "display_data"
    }
   ],
   "source": [
    "# Create a scatterplot with Matplotlib\n",
    "plt.figure(figsize=(12, 8))\n",
    "plt.scatter(df_correlation['rating'], df_correlation['box_office'] / 1e6)\n",
    "\n",
    "# Add labels and title\n",
    "plt.title('Rating vs. Box Office Revenue', fontsize=14)\n",
    "plt.xlabel('Rating', fontsize=12)\n",
    "plt.ylabel('Box Office Revenue (in millions $)', fontsize=12)\n",
    "\n",
    "plt.show()"
   ]
  },
  {
   "cell_type": "code",
   "execution_count": 30,
   "id": "7fe962ff",
   "metadata": {},
   "outputs": [],
   "source": [
    "# Extract rating range from the rating column\n",
    "df_correlation['rating_range'] = df_correlation['rating'].apply(lambda x: f\"{x // 1} - {x // 1 + 1}\")"
   ]
  },
  {
   "cell_type": "code",
   "execution_count": 31,
   "id": "4f82b5e7",
   "metadata": {},
   "outputs": [
    {
     "name": "stdout",
     "output_type": "stream",
     "text": [
      "Average box office revenue per IMDb rating range:\n",
      "rating_range\n",
      "3.0 - 4.0     2.795000e+06\n",
      "4.0 - 5.0     5.125000e+06\n",
      "5.0 - 6.0     8.166737e+06\n",
      "6.0 - 7.0     1.095223e+07\n",
      "7.0 - 8.0     3.158712e+07\n",
      "8.0 - 9.0     6.527847e+07\n",
      "9.0 - 10.0    9.610000e+07\n",
      "Name: box_office, dtype: float64\n"
     ]
    }
   ],
   "source": [
    "revenue_per_rating = df_correlation.groupby('rating_range')['box_office'].mean()\n",
    "print(f\"Average box office revenue per IMDb rating range:\\n{revenue_per_rating}\")"
   ]
  },
  {
   "cell_type": "code",
   "execution_count": 32,
   "id": "68c52183",
   "metadata": {},
   "outputs": [
    {
     "data": {
      "image/png": "[encoded data removed]",
      "text/plain": [
       "<Figure size 864x576 with 1 Axes>"
      ]
     },
     "metadata": {
      "needs_background": "light"
     },
     "output_type": "display_data"
    }
   ],
   "source": [
    "# Plot the data\n",
    "plt.figure(figsize=(12, 8))\n",
    "plt.bar(revenue_per_rating.index, revenue_per_rating.values / 1e6, color='skyblue')\n",
    "\n",
    "# Add labels and title\n",
    "plt.title('Average Box Office Revenue per Rating Range')\n",
    "plt.xlabel('Rating Range')\n",
    "plt.ylabel('Average Box Office Revenue (in millions $)')\n",
    "\n",
    "plt.show()"
   ]
  },
  {
   "cell_type": "markdown",
   "id": "eb5a573a",
   "metadata": {},
   "source": [
    "<u>*Finding*</u>: \n",
    "When comparing the movies revenues to their IMDb rating \"one by one\", there is no strong correlation although at trend can be observed that there is higher chance for a high rating movie to be successful in the box office.  \n",
    "This trend is further confirmed when looking at average box office revenues per rating range."
   ]
  },
  {
   "cell_type": "markdown",
   "id": "bdb17fea",
   "metadata": {},
   "source": [
    "### 5. Modeling"
   ]
  },
  {
   "cell_type": "code",
   "execution_count": 33,
   "id": "684c8bd6",
   "metadata": {
    "scrolled": true
   },
   "outputs": [],
   "source": [
    "from sklearn.model_selection import train_test_split\n",
    "from sklearn.linear_model import LinearRegression\n",
    "from sklearn.metrics import mean_squared_error, r2_score\n",
    "\n",
    "df_with_dummies = df_with_dummies.dropna()\n",
    "\n",
    "# Define features and target variable for prediction\n",
    "features = df_with_dummies.drop(columns=['title', 'site', 'country', 'year_release',\n",
    "       'director', 'subject', 'type_of_subject', 'decade',\n",
    "       'race_known', 'subject_race', 'subject_sex',\n",
    "       'lead_actor_actress', 'rating', 'rating_range', 'rating_3.0 - 4.0',\n",
    "       'rating_4.0 - 5.0', 'rating_5.0 - 6.0', 'rating_6.0 - 7.0',\n",
    "       'rating_7.0 - 8.0', 'rating_8.0 - 9.0', 'rating_9.0 - 10.0'], axis=1)\n",
    "\n",
    "#features = df_dum.drop(['title', 'rating'], axis=1)\n",
    "target = df_with_dummies['rating']\n",
    "\n",
    "# Split the data into training and testing sets\n",
    "X_train, X_test, y_train, y_test = train_test_split(features, target, test_size=0.2, random_state=42)\n",
    "\n",
    "# Train a linear regression model\n",
    "model = LinearRegression()\n",
    "model.fit(X_train, y_train)\n",
    "\n",
    "# Make predictions on the test set\n",
    "y_pred = model.predict(X_test)\n",
    "\n",
    "# Evaluate the model\n",
    "mse = mean_squared_error(y_test, y_pred)\n",
    "r2 = r2_score(y_test, y_pred)"
   ]
  },
  {
   "cell_type": "markdown",
   "id": "d2c9223e",
   "metadata": {},
   "source": [
    "#### 5. Can we predict the rating of a biopic movie based on its features using machine learning?"
   ]
  },
  {
   "cell_type": "code",
   "execution_count": 34,
   "id": "62fb84ce",
   "metadata": {},
   "outputs": [
    {
     "name": "stdout",
     "output_type": "stream",
     "text": [
      "Model Evaluation Metrics:\n",
      "Mean Squared Error: 0.29172028364952385\n",
      "R-squared: 0.12005487710639906\n"
     ]
    }
   ],
   "source": [
    "print(\"Model Evaluation Metrics:\")\n",
    "print(f\"Mean Squared Error: {mse}\")\n",
    "print(f\"R-squared: {r2}\")"
   ]
  },
  {
   "cell_type": "code",
   "execution_count": 35,
   "id": "e558ebe8",
   "metadata": {},
   "outputs": [
    {
     "name": "stdout",
     "output_type": "stream",
     "text": [
      "Accuracy: 0.53\n",
      "              precision    recall  f1-score   support\n",
      "\n",
      "           0       0.00      0.00      0.00         0\n",
      "           1       0.00      0.00      0.00         0\n",
      "           2       0.00      0.00      0.00         4\n",
      "           3       0.67      0.64      0.65        28\n",
      "           4       0.60      0.52      0.56        29\n",
      "           5       0.20      0.33      0.25         3\n",
      "           6       0.00      0.00      0.00         0\n",
      "\n",
      "   micro avg       0.57      0.53      0.55        64\n",
      "   macro avg       0.21      0.21      0.21        64\n",
      "weighted avg       0.57      0.53      0.55        64\n",
      " samples avg       0.53      0.53      0.53        64\n",
      "\n"
     ]
    },
    {
     "name": "stderr",
     "output_type": "stream",
     "text": [
      "C:\\Users\\loreant\\Anaconda3\\lib\\site-packages\\sklearn\\metrics\\_classification.py:1318: UndefinedMetricWarning: Precision and F-score are ill-defined and being set to 0.0 in labels with no predicted samples. Use `zero_division` parameter to control this behavior.\n",
      "  _warn_prf(average, modifier, msg_start, len(result))\n",
      "C:\\Users\\loreant\\Anaconda3\\lib\\site-packages\\sklearn\\metrics\\_classification.py:1318: UndefinedMetricWarning: Recall and F-score are ill-defined and being set to 0.0 in labels with no true samples. Use `zero_division` parameter to control this behavior.\n",
      "  _warn_prf(average, modifier, msg_start, len(result))\n",
      "C:\\Users\\loreant\\Anaconda3\\lib\\site-packages\\sklearn\\metrics\\_classification.py:1318: UndefinedMetricWarning: Precision and F-score are ill-defined and being set to 0.0 in samples with no predicted labels. Use `zero_division` parameter to control this behavior.\n",
      "  _warn_prf(average, modifier, msg_start, len(result))\n"
     ]
    }
   ],
   "source": [
    "# Define features and target variable for prediction\n",
    "features = df_with_dummies.drop(columns=['title', 'site', 'country', 'year_release',\n",
    "       'director', 'subject', 'type_of_subject', 'decade',\n",
    "       'race_known', 'subject_race', 'subject_sex',\n",
    "       'lead_actor_actress', 'rating', 'rating_range', 'rating_3.0 - 4.0',\n",
    "       'rating_4.0 - 5.0', 'rating_5.0 - 6.0', 'rating_6.0 - 7.0',\n",
    "       'rating_7.0 - 8.0', 'rating_8.0 - 9.0', 'rating_9.0 - 10.0'], axis=1)\n",
    "\n",
    "#features = df_dum.drop(['title', 'rating'], axis=1)\n",
    "target = df_with_dummies[['rating_3.0 - 4.0',\n",
    "       'rating_4.0 - 5.0', 'rating_5.0 - 6.0', 'rating_6.0 - 7.0',\n",
    "       'rating_7.0 - 8.0', 'rating_8.0 - 9.0', 'rating_9.0 - 10.0']]\n",
    "\n",
    "# Split the data into training and testing sets\n",
    "X_train, X_test, y_train, y_test = train_test_split(features, target, test_size=0.2, random_state=42)\n",
    "\n",
    "# Train random forest classifier\n",
    "model = RandomForestClassifier()\n",
    "model.fit(X_train, y_train)\n",
    "\n",
    "# Make predictions on the test set\n",
    "y_pred = model.predict(X_test)\n",
    "\n",
    "# Evaluate the model\n",
    "print(f\"Accuracy: {accuracy_score(y_test, y_pred):.2f}\")\n",
    "print(classification_report(y_test, y_pred))"
   ]
  },
  {
   "cell_type": "markdown",
   "id": "9df49138",
   "metadata": {},
   "source": [
    "<u>*Finding*</u>: \n",
    "Prediction of linear regression and random forest classifier is not good when using the available dataset."
   ]
  }
 ],
 "metadata": {
  "kernelspec": {
   "display_name": "Python 3 (ipykernel)",
   "language": "python",
   "name": "python3"
  },
  "language_info": {
   "codemirror_mode": {
    "name": "ipython",
    "version": 3
   },
   "file_extension": ".py",
   "mimetype": "text/x-python",
   "name": "python",
   "nbconvert_exporter": "python",
   "pygments_lexer": "ipython3",
   "version": "3.9.12"
  }
 },
 "nbformat": 4,
 "nbformat_minor": 5
}
